{
 "cells": [
  {
   "cell_type": "code",
   "execution_count": 4,
   "id": "e27116dc",
   "metadata": {
    "vscode": {
     "languageId": "markdown"
    }
   },
   "outputs": [
    {
     "name": "stdout",
     "output_type": "stream",
     "text": [
      "Tables in the database: ['employee', 'team', 'notes', 'employee_events']\n",
      "\n",
      "Contents of table 'employee':\n",
      "    index  employee_id first_name  last_name  team_id\n",
      "0       0            1       Alex   Martinez        2\n",
      "1       1            2   Brittany   Williams        3\n",
      "2       2            3     Calvin       Chen        5\n",
      "3       3            4    Daniela     Rivera        3\n",
      "4       4            5      Ethan      Patel        4\n",
      "5       5            6      Fiona   Sullivan        2\n",
      "6       6            7     George   Thompson        3\n",
      "7       7            8      Henry        Lee        2\n",
      "8       8            9   Isabella     Watson        1\n",
      "9       9           10       Jack    Ramirez        2\n",
      "10     10           11      Karen      Lopez        4\n",
      "11     11           12       Liam     Nguyen        5\n",
      "12     12           13       Maya    Johnson        2\n",
      "13     13           14     Nathan      Scott        4\n",
      "14     14           15     Olivia     Brooks        1\n",
      "15     15           16       Paul        Kim        4\n",
      "16     16           17      Quinn      Davis        1\n",
      "17     17           18       Rosa  Hernandez        2\n",
      "18     18           19     Samuel     Turner        3\n",
      "19     19           20     Taylor    Bennett        1\n",
      "20     20           21    Ulysses      Ortiz        3\n",
      "21     21           22   Victoria     Parker        4\n",
      "22     22           23    William     Foster        4\n",
      "23     23           24     Xavier     Morgan        2\n",
      "24     24           25        Zoe     Carter        3\n",
      "\n",
      "Contents of table 'team':\n",
      "   index  team_id     team_name  \\\n",
      "0      0        2    Bravo Team   \n",
      "1      1        3  Charlie Team   \n",
      "2      2        5     Echo Team   \n",
      "3      4        4    Delta Team   \n",
      "4      8        1    Alpha Team   \n",
      "\n",
      "                                               shift      manager_name  \n",
      "0                Afternoon Shift: 2:00 PM - 10:00 PM      James Carter  \n",
      "1                    Night Shift: 10:00 PM - 6:00 AM   Sophia Reynolds  \n",
      "2  Weekend Shift: Saturday & Sunday, 7:00 AM - 7:...  Melissa Thompson  \n",
      "3  Split Shift: 8:00 AM - 12:00 PM, 4:00 PM - 8:0...  Melissa Thompson  \n",
      "4                   Morning Shift: 6:00 AM - 2:00 PM  Melissa Thompson  \n",
      "\n",
      "Contents of table 'notes':\n",
      "     index  employee_id  team_id  \\\n",
      "0      124           25        3   \n",
      "1      264           15        1   \n",
      "2      294           20        1   \n",
      "3      333            9        1   \n",
      "4      346           22        4   \n",
      "..     ...          ...      ...   \n",
      "120   5855            6        2   \n",
      "121   6092           18        2   \n",
      "122   6470           21        3   \n",
      "123   6472           23        4   \n",
      "124   6490           16        4   \n",
      "\n",
      "                                                  note   note_date  \n",
      "0    Her keen eye for detail caught a shipment erro...  2024-04-29  \n",
      "1    Suggested a more efficient method of tracking ...  2024-05-07  \n",
      "2    Needs improvement in following up on tasks onc...  2024-05-08  \n",
      "3    Consistently checks in with her team, making s...  2024-05-10  \n",
      "4    Forgot to finalize a critical order, which cau...  2024-05-10  \n",
      "..                                                 ...         ...  \n",
      "120  Identified a recurring bottleneck in productio...  2025-03-17  \n",
      "121  Tends to be overly critical when giving feedba...  2025-03-28  \n",
      "122  Needs to improve communication with his team, ...  2025-04-18  \n",
      "123  Helped reorganize the storeroom, improving inv...  2025-04-18  \n",
      "124  Found a way to reduce packaging costs by 15% w...  2025-04-21  \n",
      "\n",
      "[125 rows x 5 columns]\n",
      "\n",
      "Contents of table 'employee_events':\n",
      "      index  event_date  employee_id  team_id  positive_events  \\\n",
      "0         0  2024-04-23            1        2                1   \n",
      "1         1  2024-04-23            2        3                2   \n",
      "2         2  2024-04-23            3        5                4   \n",
      "3         3  2024-04-23            4        3                0   \n",
      "4         4  2024-04-23            5        4                2   \n",
      "...     ...         ...          ...      ...              ...   \n",
      "6545   6545  2025-04-23           21        3                4   \n",
      "6546   6546  2025-04-23           22        4                3   \n",
      "6547   6547  2025-04-23           23        4                4   \n",
      "6548   6548  2025-04-23           24        2                3   \n",
      "6549   6549  2025-04-23           25        3                4   \n",
      "\n",
      "      negative_events  \n",
      "0                   2  \n",
      "1                   3  \n",
      "2                   0  \n",
      "3                   0  \n",
      "4                   1  \n",
      "...               ...  \n",
      "6545                0  \n",
      "6546                0  \n",
      "6547                0  \n",
      "6548                1  \n",
      "6549                0  \n",
      "\n",
      "[6550 rows x 6 columns]\n"
     ]
    }
   ],
   "source": [
    "from sqlite3 import connect\n",
    "from pathlib import Path\n",
    "import pandas as pd\n",
    "\n",
    "# Define the database path\n",
    "db_path = Path().resolve() / 'employee_events.db'\n",
    "\n",
    "# Function to fetch all rows from a specific table\n",
    "def read_table(table_name):\n",
    "    with connect(db_path) as conn:\n",
    "        query = f\"SELECT * FROM {table_name};\"\n",
    "        return pd.read_sql_query(query, conn)\n",
    "\n",
    "# Function to list all table names in the database\n",
    "def get_table_names():\n",
    "    with connect(db_path) as conn:\n",
    "        cursor = conn.cursor()\n",
    "        cursor.execute(\"SELECT name FROM sqlite_master WHERE type = 'table';\")\n",
    "        tables = cursor.fetchall()\n",
    "    return [table[0] for table in tables]\n",
    "\n",
    "# List all tables\n",
    "tables = get_table_names()\n",
    "print(\"Tables in the database:\", tables)\n",
    "\n",
    "# Read and display the contents of each table\n",
    "for table in tables:\n",
    "    print(f\"\\nContents of table '{table}':\")\n",
    "    print(read_table(table))"
   ]
  },
  {
   "cell_type": "code",
   "execution_count": 3,
   "id": "b9587a97",
   "metadata": {
    "vscode": {
     "languageId": "markdown"
    }
   },
   "outputs": [
    {
     "ename": "SyntaxError",
     "evalue": "invalid syntax (Temp/ipykernel_73616/3550266777.py, line 1)",
     "output_type": "error",
     "traceback": [
      "\u001b[1;36m  File \u001b[1;32m\"C:\\Users\\86bur\\AppData\\Local\\Temp/ipykernel_73616/3550266777.py\"\u001b[1;36m, line \u001b[1;32m1\u001b[0m\n\u001b[1;33m    This SQL query retrieves the names of all tables in the SQLite database. It queries the `sqlite_master` table, which is a system table in SQLite that stores metadata about the database schema. The `WHERE type = 'table'` condition ensures that only table names are returned, excluding other objects like indexes or views.\u001b[0m\n\u001b[1;37m         ^\u001b[0m\n\u001b[1;31mSyntaxError\u001b[0m\u001b[1;31m:\u001b[0m invalid syntax\n"
     ]
    }
   ],
   "source": [
    "This SQL query retrieves the names of all tables in the SQLite database. It queries the `sqlite_master` table, which is a system table in SQLite that stores metadata about the database schema. The `WHERE type = 'table'` condition ensures that only table names are returned, excluding other objects like indexes or views.\n"
   ]
  },
  {
   "cell_type": "code",
   "execution_count": null,
   "id": "0b6185e8",
   "metadata": {},
   "outputs": [],
   "source": []
  }
 ],
 "metadata": {
  "kernelspec": {
   "display_name": "Python 3 (ipykernel)",
   "language": "python",
   "name": "python3"
  },
  "language_info": {
   "codemirror_mode": {
    "name": "ipython",
    "version": 3
   },
   "file_extension": ".py",
   "mimetype": "text/x-python",
   "name": "python",
   "nbconvert_exporter": "python",
   "pygments_lexer": "ipython3",
   "version": "3.8.12"
  }
 },
 "nbformat": 4,
 "nbformat_minor": 5
}
